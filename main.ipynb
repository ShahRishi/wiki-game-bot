{
 "cells": [
  {
   "cell_type": "code",
   "execution_count": 38,
   "id": "952e5f3f",
   "metadata": {},
   "outputs": [],
   "source": [
    "from bs4 import BeautifulSoup\n",
    "from queue import Queue\n",
    "import urllib.request\n",
    "from urllib.request import urlopen\n",
    "import re\n",
    "import queue"
   ]
  },
  {
   "cell_type": "code",
   "execution_count": 50,
   "id": "f690bef4",
   "metadata": {},
   "outputs": [
    {
     "name": "stdout",
     "output_type": "stream",
     "text": [
      "Please input your starting link: https://en.wikipedia.org/wiki/BTS\n",
      "Please input your destination link: https://en.wikipedia.org/wiki/BTS\n"
     ]
    }
   ],
   "source": [
    "rootLink, rootHTML = input(\"Please input your starting link: \"), urlopen(rootLink)\n",
    "destLink, destHTML = input(\"Please input your destination link: \"), urlopen(destLink)"
   ]
  },
  {
   "cell_type": "code",
   "execution_count": 55,
   "id": "fdd6aaaa",
   "metadata": {},
   "outputs": [],
   "source": [
    "soup = BeautifulSoup(rootHTML, 'html.parser')\n",
    "adjList, parents, status = {}, {}, {}\n",
    "parents[rootLink] = None\n",
    "q = queue.Queue()\n",
    "found = False"
   ]
  },
  {
   "cell_type": "code",
   "execution_count": 1,
   "id": "ec589474",
   "metadata": {},
   "outputs": [],
   "source": [
    "#input: soup page\n",
    "#output: list of all strings in a file\n",
    "#houskeeping: adds parents of children of soup, \n",
    "def nestedLinks(soup, soupLink):\n",
    "    links = []\n",
    "    for link in soup.find_all('a'):\n",
    "        if link.get('href') != None:\n",
    "            if re.match(r'/wiki/*', link.get('href')):\n",
    "                nestedLink = 'https://en.wikipedia.org' + link.get('href')\n",
    "                links += [nestedLink]            #bucket for input soupLink\n",
    "                parents[nestedLink] = soupLink   #updates parent of child\n",
    "                status[nestedLink] = 'visited'   #updates status of child\n",
    "                if nestedLink == destLink:\n",
    "                    found = True                 #updates terminating condition\n",
    "    adjList[soupLink] = links                    #creates adjacency list"
   ]
  },
  {
   "cell_type": "code",
   "execution_count": 53,
   "id": "608df2e2",
   "metadata": {},
   "outputs": [],
   "source": [
    "#input: url of the current 'node' (page)\n",
    "#returns the soup of the current node\n",
    "def getSoup(nodeURL):\n",
    "    nodeHTML = url.open(nodeURL)\n",
    "    nodeSoup = BeautifulSoup(nodeHTML, 'html.parser')\n",
    "    return nodeSoup"
   ]
  },
  {
   "cell_type": "code",
   "execution_count": null,
   "id": "c4137159",
   "metadata": {},
   "outputs": [],
   "source": []
  },
  {
   "cell_type": "code",
   "execution_count": 60,
   "id": "5fdac6a4",
   "metadata": {},
   "outputs": [],
   "source": [
    "q.put(rootLink)\n",
    "while (q.empty() == False) and (found == False):\n",
    "    x = q.get()\n",
    "    if x not in parents:\n",
    "        status[x] = visited\n",
    "        for edge in nestedLinks(getSoup(x), x):\n",
    "            if edge not in parents:\n",
    "                q.put(edge)\n",
    "    \n",
    "   "
   ]
  },
  {
   "cell_type": "code",
   "execution_count": null,
   "id": "af939535",
   "metadata": {},
   "outputs": [],
   "source": [
    "q.get()"
   ]
  },
  {
   "cell_type": "code",
   "execution_count": null,
   "id": "0f775033",
   "metadata": {},
   "outputs": [],
   "source": []
  }
 ],
 "metadata": {
  "kernelspec": {
   "display_name": "Python 3 (ipykernel)",
   "language": "python",
   "name": "python3"
  },
  "language_info": {
   "codemirror_mode": {
    "name": "ipython",
    "version": 3
   },
   "file_extension": ".py",
   "mimetype": "text/x-python",
   "name": "python",
   "nbconvert_exporter": "python",
   "pygments_lexer": "ipython3",
   "version": "3.9.7"
  }
 },
 "nbformat": 4,
 "nbformat_minor": 5
}
