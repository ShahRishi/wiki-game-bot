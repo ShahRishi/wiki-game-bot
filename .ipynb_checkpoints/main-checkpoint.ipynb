{
 "cells": [
  {
   "cell_type": "code",
   "execution_count": 1,
   "id": "952e5f3f",
   "metadata": {},
   "outputs": [],
   "source": [
    "from bs4 import BeautifulSoup\n",
    "from queue import Queue\n",
    "import urllib.request\n",
    "from urllib.request import urlopen\n",
    "import re\n",
    "import queue"
   ]
  },
  {
   "cell_type": "code",
   "execution_count": 2,
   "id": "f690bef4",
   "metadata": {},
   "outputs": [],
   "source": [
    "rootLink = \"https://en.wikipedia.org/wiki/BTS\"\n",
    "rootHTML = urlopen(rootLink)\n",
    "destLink = \"https://en.wikipedia.org/wiki/RM_(rapper)\"\n",
    "#destHTML = urlopen(destLink)"
   ]
  },
  {
   "cell_type": "code",
   "execution_count": 3,
   "id": "fdd6aaaa",
   "metadata": {},
   "outputs": [],
   "source": [
    "adjList, parents, status = {}, {}, {}\n",
    "parents[rootLink] = None\n",
    "q = queue.Queue()\n",
    "found = False"
   ]
  },
  {
   "cell_type": "code",
   "execution_count": 4,
   "id": "4e88b5d3",
   "metadata": {},
   "outputs": [],
   "source": [
    "#input: link of page\n",
    "#output: title of page\n",
    "def getTitle(link):\n",
    "    soup = getSoup(link)\n",
    "    title = str(soup.find('title'))\n",
    "    s = title[7:-20]\n",
    "    return s"
   ]
  },
  {
   "cell_type": "code",
   "execution_count": 5,
   "id": "ec589474",
   "metadata": {},
   "outputs": [],
   "source": [
    "#input: soup page\n",
    "#output: list of all strings in a file\n",
    "#houskeeping: adds parents of children of soup, \n",
    "def nestedLinks(soup, soupLink):\n",
    "    global found\n",
    "    links = []\n",
    "    for link in soup.find_all('a'):\n",
    "        if found == True:\n",
    "            break\n",
    "        if link.get('href') != None:\n",
    "            if re.match(r'/wiki/*', link.get('href')):\n",
    "                nestedLink = 'https://en.wikipedia.org' + link.get('href')\n",
    "                links += [nestedLink]            #bucket for input soupLink\n",
    "                parents[nestedLink] = soupLink   #updates parent of child\n",
    "                status[nestedLink] = 'visited'   #updates status of child\n",
    "                #if getTitle(nestedLink) == getTitle(destLink):\n",
    "                    #print(getTitle(nestedLink))\n",
    "                    #print(getTitle(destLink))\n",
    "                    #found = True                 #updates terminating condition\n",
    "                    #break\n",
    "        \n",
    "    adjList[soupLink] = links                    #creates adjacency list\n",
    "    return links"
   ]
  },
  {
   "cell_type": "code",
   "execution_count": 6,
   "id": "608df2e2",
   "metadata": {},
   "outputs": [],
   "source": [
    "#input: url of the current 'node' (page)\n",
    "#returns the soup of the current node\n",
    "def getSoup(nodeURL):\n",
    "    nodeHTML = urlopen(nodeURL)\n",
    "    nodeSoup = BeautifulSoup(nodeHTML, 'html.parser')    #creates soup object for nodeURL\n",
    "    return nodeSoup"
   ]
  },
  {
   "cell_type": "code",
   "execution_count": 7,
   "id": "5fdac6a4",
   "metadata": {},
   "outputs": [
    {
     "name": "stdout",
     "output_type": "stream",
     "text": [
      "https://en.wikipedia.org/wiki/BTS\n",
      "https://en.wikipedia.org/wiki/Wikipedia:Good_articles\n",
      "https://en.wikipedia.org/wiki/Wikipedia:Good_articles\n",
      "https://en.wikipedia.org/wiki/Wikipedia:Protection_policy#extended\n",
      "https://en.wikipedia.org/wiki/Wikipedia:Protection_policy#extended\n",
      "https://en.wikipedia.org/wiki/BTS_(disambiguation)\n",
      "https://en.wikipedia.org/wiki/BTS_(disambiguation)\n",
      "https://en.wikipedia.org/wiki/File:BTS_for_Dispatch_White_Day_Special,_27_February_2019_01.jpg\n",
      "https://en.wikipedia.org/wiki/File:BTS_for_Dispatch_White_Day_Special,_27_February_2019_01.jpg\n",
      "https://en.wikipedia.org/wiki/Kim_Seok-jin\n",
      "https://en.wikipedia.org/wiki/Kim_Seok-jin\n",
      "https://en.wikipedia.org/wiki/RM_(rapper)\n",
      "works!!!!!!\n"
     ]
    }
   ],
   "source": [
    "q.put(rootLink)\n",
    "while (q.empty() == False) and (found == False):\n",
    "    x = q.get()\n",
    "    print(x)\n",
    "    for child in nestedLinks(getSoup(x), x):\n",
    "        print(child)\n",
    "        if getTitle(child) == getTitle(destLink):\n",
    "            print(\"******Solution Found!******\")\n",
    "            found = True\n",
    "            break\n",
    "        print(child)\n",
    "        q.put(child)"
   ]
  },
  {
   "cell_type": "code",
   "execution_count": 8,
   "id": "9b277c9e",
   "metadata": {},
   "outputs": [
    {
     "name": "stdout",
     "output_type": "stream",
     "text": [
      "**********Solution Found!!************\n"
     ]
    }
   ],
   "source": [
    "print('**********Solution Found!!************')"
   ]
  },
  {
   "cell_type": "code",
   "execution_count": 9,
   "id": "af939535",
   "metadata": {},
   "outputs": [
    {
     "name": "stdout",
     "output_type": "stream",
     "text": [
      "https://en.wikipedia.org/wiki/RM_(rapper)\n",
      "['RM (rapper)']\n",
      "['BTS', 'RM (rapper)']\n"
     ]
    }
   ],
   "source": [
    "currNode = destLink\n",
    "BFSTree = []\n",
    "\n",
    "while getTitle(currNode) != getTitle(rootLink):\n",
    "    BFSTree = [getTitle(currNode)] + BFSTree\n",
    "    currNode = parents[currNode]\n",
    "BFSTree = [getTitle(currNode)] + BFSTree\n",
    "print(BFSTree)"
   ]
  },
  {
   "cell_type": "code",
   "execution_count": null,
   "id": "c108bf62",
   "metadata": {},
   "outputs": [],
   "source": []
  },
  {
   "cell_type": "code",
   "execution_count": null,
   "id": "0584ad4d",
   "metadata": {},
   "outputs": [],
   "source": []
  }
 ],
 "metadata": {
  "kernelspec": {
   "display_name": "Python 3 (ipykernel)",
   "language": "python",
   "name": "python3"
  },
  "language_info": {
   "codemirror_mode": {
    "name": "ipython",
    "version": 3
   },
   "file_extension": ".py",
   "mimetype": "text/x-python",
   "name": "python",
   "nbconvert_exporter": "python",
   "pygments_lexer": "ipython3",
   "version": "3.9.7"
  }
 },
 "nbformat": 4,
 "nbformat_minor": 5
}
